{
  "nbformat": 4,
  "nbformat_minor": 0,
  "metadata": {
    "colab": {
      "name": "Leap year.ipynb",
      "provenance": [],
      "authorship_tag": "ABX9TyN1CCBhE/0bYLVoIVcENf7p",
      "include_colab_link": true
    },
    "kernelspec": {
      "name": "python3",
      "display_name": "Python 3"
    }
  },
  "cells": [
    {
      "cell_type": "markdown",
      "metadata": {
        "id": "view-in-github",
        "colab_type": "text"
      },
      "source": [
        "<a href=\"https://colab.research.google.com/github/fahim063/AHSS/blob/master/Leap_year.ipynb\" target=\"_parent\"><img src=\"https://colab.research.google.com/assets/colab-badge.svg\" alt=\"Open In Colab\"/></a>"
      ]
    },
    {
      "cell_type": "code",
      "metadata": {
        "id": "Jfar2ciGQ1c_",
        "outputId": "09f905be-ec63-420e-dc46-b1adf726f291",
        "colab": {
          "base_uri": "https://localhost:8080/",
          "height": 51
        }
      },
      "source": [
        "def is_leap(year):\n",
        "    leap = False\n",
        "    \n",
        "    # Write your logic here\n",
        "    if (year%400 == 0) :\n",
        "      leap = True\n",
        "    elif (year%100 == 0):\n",
        "      if (year%400 != 0):\n",
        "        leap = False\n",
        "    elif (year%4 == 0):\n",
        "      leap = True\n",
        "      \n",
        "      \n",
        "    else:\n",
        "       leap = False\n",
        "    \n",
        "    \n",
        "    return leap\n",
        "\n",
        "year = int(input(\"Please mention the year :\"))\n",
        "print(is_leap(year))"
      ],
      "execution_count": 56,
      "outputs": [
        {
          "output_type": "stream",
          "text": [
            "Please mention the year :1900\n",
            "False\n"
          ],
          "name": "stdout"
        }
      ]
    }
  ]
}